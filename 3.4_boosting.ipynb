{
 "cells": [
  {
   "cell_type": "markdown",
   "id": "0b55839a",
   "metadata": {},
   "source": [
    "# 3.4 Boosting"
   ]
  },
  {
   "cell_type": "code",
   "execution_count": 1,
   "id": "7d1f1008",
   "metadata": {},
   "outputs": [],
   "source": [
    "import pandas as pd\n",
    "import numpy as np\n",
    "import matplotlib.pyplot as plt\n",
    "\n",
    "from sklearn.model_selection import train_test_split, GridSearchCV\n",
    "from sklearn.metrics import confusion_matrix, ConfusionMatrixDisplay\n",
    "from sklearn.feature_extraction.text import TfidfVectorizer\n",
    "from sklearn.ensemble import AdaBoostClassifier\n",
    "from sklearn.tree import export_text, DecisionTreeClassifier\n",
    "\n",
    "np.random.seed(42)"
   ]
  },
  {
   "cell_type": "code",
   "execution_count": 2,
   "id": "e8eda4cd",
   "metadata": {},
   "outputs": [],
   "source": [
    "df = pd.read_csv('./cleaned_data')\n",
    "# dropping new rows with null selftext values\n",
    "df.drop(df.loc[df['selftext'].isna()].index, inplace=True)\n",
    "df.reset_index(drop=True, inplace=True)\n",
    "\n",
    "X = df['selftext']\n",
    "y = df['solotravel']\n",
    "\n",
    "tvec = TfidfVectorizer()\n",
    "tvec.fit(X)\n",
    "\n",
    "X_train, X_test, y_train, y_test = train_test_split(X, y, train_size=0.8, stratify=y, random_state=42)\n",
    "X_train_transformed = tvec.transform(X_train)\n",
    "X_test_transformed = tvec.transform(X_test)"
   ]
  },
  {
   "cell_type": "code",
   "execution_count": 3,
   "id": "b3861374",
   "metadata": {},
   "outputs": [],
   "source": [
    "def scores(model):\n",
    "    print(f'train score: {model.score(X_train_transformed, y_train)}')\n",
    "    print(f'test score: {model.score(X_test_transformed, y_test)}')\n",
    "    print()\n",
    "    try:\n",
    "        print(f'best score: {model.best_score_}')\n",
    "        print(f'best params: {model.best_params_}')\n",
    "    except:\n",
    "        pass"
   ]
  },
  {
   "cell_type": "markdown",
   "id": "64f489f4",
   "metadata": {},
   "source": [
    "### Our models seem to be suffering from high bias/underfitting so we should boost to combat that"
   ]
  },
  {
   "cell_type": "markdown",
   "id": "9615b553",
   "metadata": {},
   "source": [
    "### How well does a decision tree perform?"
   ]
  },
  {
   "cell_type": "code",
   "execution_count": 4,
   "id": "98e2ed29",
   "metadata": {},
   "outputs": [],
   "source": [
    "dtc = DecisionTreeClassifier(max_depth=10)"
   ]
  },
  {
   "cell_type": "code",
   "execution_count": 5,
   "id": "30771ddf",
   "metadata": {},
   "outputs": [
    {
     "data": {
      "text/plain": [
       "DecisionTreeClassifier(max_depth=10)"
      ]
     },
     "execution_count": 5,
     "metadata": {},
     "output_type": "execute_result"
    }
   ],
   "source": [
    "dtc.fit(X_train_transformed, y_train)"
   ]
  },
  {
   "cell_type": "code",
   "execution_count": 6,
   "id": "352af94f",
   "metadata": {},
   "outputs": [
    {
     "name": "stdout",
     "output_type": "stream",
     "text": [
      "0.7331207801950488\n",
      "0.7250562640660165\n"
     ]
    }
   ],
   "source": [
    "print(dtc.score(X_train_transformed, y_train))\n",
    "print(dtc.score(X_test_transformed, y_test))"
   ]
  },
  {
   "cell_type": "markdown",
   "id": "ebaac07f",
   "metadata": {},
   "source": [
    "Pretty consistent results with what we've had so far."
   ]
  },
  {
   "cell_type": "markdown",
   "id": "8f1c8f72",
   "metadata": {},
   "source": [
    "## AdaBoostClassifier"
   ]
  },
  {
   "cell_type": "code",
   "execution_count": 7,
   "id": "812fdff5",
   "metadata": {},
   "outputs": [],
   "source": [
    "abc = AdaBoostClassifier(random_state=42)"
   ]
  },
  {
   "cell_type": "code",
   "execution_count": 8,
   "id": "2e1d33a2",
   "metadata": {},
   "outputs": [
    {
     "name": "stdout",
     "output_type": "stream",
     "text": [
      "CPU times: user 42.5 s, sys: 603 ms, total: 43.1 s\n",
      "Wall time: 43.2 s\n"
     ]
    },
    {
     "data": {
      "text/plain": [
       "AdaBoostClassifier(random_state=42)"
      ]
     },
     "execution_count": 8,
     "metadata": {},
     "output_type": "execute_result"
    }
   ],
   "source": [
    "%%time\n",
    "abc.fit(X_train_transformed, y_train)"
   ]
  },
  {
   "cell_type": "code",
   "execution_count": 9,
   "id": "e611f6ae",
   "metadata": {},
   "outputs": [
    {
     "name": "stdout",
     "output_type": "stream",
     "text": [
      "0.7416229057264316\n",
      "0.7396849212303076\n"
     ]
    }
   ],
   "source": [
    "print(abc.score(X_train_transformed, y_train))\n",
    "print(abc.score(X_test_transformed, y_test))"
   ]
  },
  {
   "cell_type": "code",
   "execution_count": 10,
   "id": "d66b1a6f",
   "metadata": {},
   "outputs": [],
   "source": [
    "abc_params = {\n",
    "    'n_estimators': [25, 75, 150], \n",
    "    'learning_rate': [0.01, 0.1, 0.5]   \n",
    "}"
   ]
  },
  {
   "cell_type": "code",
   "execution_count": 11,
   "id": "9dcae622",
   "metadata": {},
   "outputs": [
    {
     "name": "stdout",
     "output_type": "stream",
     "text": [
      "Fitting 5 folds for each of 9 candidates, totalling 45 fits\n",
      "CPU times: user 2min 7s, sys: 2.09 s, total: 2min 10s\n",
      "Wall time: 21min 37s\n"
     ]
    },
    {
     "data": {
      "text/plain": [
       "GridSearchCV(cv=5, estimator=AdaBoostClassifier(random_state=42), n_jobs=-1,\n",
       "             param_grid={'learning_rate': [0.01, 0.1, 0.5],\n",
       "                         'n_estimators': [25, 75, 150]},\n",
       "             verbose=1)"
      ]
     },
     "execution_count": 11,
     "metadata": {},
     "output_type": "execute_result"
    }
   ],
   "source": [
    "%%time\n",
    "gs = GridSearchCV(abc, abc_params, cv=5, n_jobs=-1, verbose=1)\n",
    "gs.fit(X_train_transformed, y_train)"
   ]
  },
  {
   "cell_type": "code",
   "execution_count": 12,
   "id": "43b5cb98",
   "metadata": {},
   "outputs": [
    {
     "name": "stdout",
     "output_type": "stream",
     "text": [
      "train score: 0.7572205551387847\n",
      "test score: 0.748062015503876\n",
      "\n",
      "best score: 0.7492808323588777\n",
      "best params: {'learning_rate': 0.5, 'n_estimators': 150}\n"
     ]
    }
   ],
   "source": [
    "scores(gs)"
   ]
  },
  {
   "cell_type": "code",
   "execution_count": 13,
   "id": "4ebd712d",
   "metadata": {},
   "outputs": [
    {
     "data": {
      "image/png": "[encoded data removed]",
      "text/plain": [
       "<Figure size 432x288 with 2 Axes>"
      ]
     },
     "metadata": {
      "needs_background": "light"
     },
     "output_type": "display_data"
    }
   ],
   "source": [
    "cm = confusion_matrix(y_test, gs.predict(X_test_transformed))\n",
    "ConfusionMatrixDisplay(cm).plot();"
   ]
  },
  {
   "cell_type": "markdown",
   "id": "aade5ea2",
   "metadata": {},
   "source": [
    "The training and testing scores here are roughly equivalent to that of the NB and SVM models."
   ]
  }
 ],
 "metadata": {
  "kernelspec": {
   "display_name": "Python 3",
   "language": "python",
   "name": "python3"
  },
  "language_info": {
   "codemirror_mode": {
    "name": "ipython",
    "version": 3
   },
   "file_extension": ".py",
   "mimetype": "text/x-python",
   "name": "python",
   "nbconvert_exporter": "python",
   "pygments_lexer": "ipython3",
   "version": "3.8.10"
  }
 },
 "nbformat": 4,
 "nbformat_minor": 5
}
