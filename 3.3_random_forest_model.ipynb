{
 "cells": [
  {
   "cell_type": "markdown",
   "id": "ee5f17f7",
   "metadata": {},
   "source": [
    "# 3.3 Random Forest"
   ]
  },
  {
   "cell_type": "code",
   "execution_count": 1,
   "id": "eb3172d4",
   "metadata": {},
   "outputs": [],
   "source": [
    "import pandas as pd\n",
    "import numpy as np\n",
    "\n",
    "from sklearn.ensemble import RandomForestClassifier\n",
    "from sklearn.model_selection import train_test_split, GridSearchCV\n",
    "from sklearn.metrics import confusion_matrix, ConfusionMatrixDisplay\n",
    "from sklearn.feature_extraction.text import TfidfVectorizer\n",
    "\n",
    "np.random.seed(42)"
   ]
  },
  {
   "cell_type": "code",
   "execution_count": 2,
   "id": "910170dd",
   "metadata": {},
   "outputs": [],
   "source": [
    "df = pd.read_csv('./cleaned_data')\n",
    "# dropping new rows with null selftext values\n",
    "df.drop(df.loc[df['selftext'].isna()].index, inplace=True)\n",
    "df.reset_index(drop=True, inplace=True)\n",
    "\n",
    "X = df['selftext']\n",
    "y = df['solotravel']\n",
    "\n",
    "tvec = TfidfVectorizer()\n",
    "tvec.fit(X)\n",
    "\n",
    "X_train, X_test, y_train, y_test = train_test_split(X, y, train_size=0.8, stratify=y, random_state=42)\n",
    "X_train_transformed = tvec.transform(X_train)\n",
    "X_test_transformed = tvec.transform(X_test)"
   ]
  },
  {
   "cell_type": "code",
   "execution_count": 3,
   "id": "6fa723a8",
   "metadata": {},
   "outputs": [],
   "source": [
    "def scores(model):\n",
    "    print(f'train score: {model.score(X_train_transformed, y_train)}')\n",
    "    print(f'test score: {model.score(X_test_transformed, y_test)}')\n",
    "    print()\n",
    "    try:\n",
    "        print(f'best score: {model.best_score_}')\n",
    "        print(f'best params: {model.best_params_}')\n",
    "    except:\n",
    "        pass"
   ]
  },
  {
   "cell_type": "code",
   "execution_count": 4,
   "id": "7b0c68b3",
   "metadata": {},
   "outputs": [],
   "source": [
    "rf = RandomForestClassifier()"
   ]
  },
  {
   "cell_type": "code",
   "execution_count": 5,
   "id": "f9a5c05e",
   "metadata": {},
   "outputs": [
    {
     "name": "stdout",
     "output_type": "stream",
     "text": [
      "CPU times: user 2min 12s, sys: 437 ms, total: 2min 12s\n",
      "Wall time: 2min 13s\n"
     ]
    },
    {
     "data": {
      "text/plain": [
       "RandomForestClassifier()"
      ]
     },
     "execution_count": 5,
     "metadata": {},
     "output_type": "execute_result"
    }
   ],
   "source": [
    "%%time\n",
    "rf.fit(X_train_transformed, y_train)"
   ]
  },
  {
   "cell_type": "code",
   "execution_count": 6,
   "id": "6c167a07",
   "metadata": {},
   "outputs": [
    {
     "name": "stdout",
     "output_type": "stream",
     "text": [
      "train score: 0.9969992498124531\n",
      "test score: 0.7458114528632158\n",
      "\n"
     ]
    }
   ],
   "source": [
    "scores(rf)"
   ]
  },
  {
   "cell_type": "markdown",
   "id": "5c2e439f",
   "metadata": {},
   "source": [
    "This model is massively overfit."
   ]
  },
  {
   "cell_type": "code",
   "execution_count": 10,
   "id": "e3bc77fa",
   "metadata": {},
   "outputs": [
    {
     "name": "stdout",
     "output_type": "stream",
     "text": [
      "Fitting 5 folds for each of 18 candidates, totalling 90 fits\n",
      "CPU times: user 4min 27s, sys: 1.29 s, total: 4min 29s\n",
      "Wall time: 25min 57s\n"
     ]
    },
    {
     "data": {
      "text/plain": [
       "GridSearchCV(cv=5, estimator=RandomForestClassifier(), n_jobs=-1,\n",
       "             param_grid={'max_depth': [None, 1, 2, 3, 4, 5],\n",
       "                         'n_estimators': [100, 150, 200]},\n",
       "             verbose=1)"
      ]
     },
     "execution_count": 10,
     "metadata": {},
     "output_type": "execute_result"
    }
   ],
   "source": [
    "%%time\n",
    "rf_params = {\n",
    "    'n_estimators': [100, 150, 200], \n",
    "    'max_depth'   : [None, 1, 2, 3, 4, 5]\n",
    "}\n",
    "\n",
    "gs = GridSearchCV(rf, param_grid=rf_params, cv=5, n_jobs=-1, verbose=1)\n",
    "gs.fit(X_train_transformed, y_train)"
   ]
  },
  {
   "cell_type": "code",
   "execution_count": 11,
   "id": "7495b2fc",
   "metadata": {},
   "outputs": [
    {
     "name": "stdout",
     "output_type": "stream",
     "text": [
      "train score: 0.9969992498124531\n",
      "test score: 0.753563390847712\n",
      "\n",
      "best score: 0.7493121654040875\n",
      "best params: {'max_depth': None, 'n_estimators': 200}\n"
     ]
    }
   ],
   "source": [
    "scores(gs)"
   ]
  },
  {
   "cell_type": "markdown",
   "id": "14d639af",
   "metadata": {},
   "source": [
    "The model remains overfit. So random forests are not a good model for this problem."
   ]
  }
 ],
 "metadata": {
  "kernelspec": {
   "display_name": "Python 3",
   "language": "python",
   "name": "python3"
  },
  "language_info": {
   "codemirror_mode": {
    "name": "ipython",
    "version": 3
   },
   "file_extension": ".py",
   "mimetype": "text/x-python",
   "name": "python",
   "nbconvert_exporter": "python",
   "pygments_lexer": "ipython3",
   "version": "3.8.10"
  }
 },
 "nbformat": 4,
 "nbformat_minor": 5
}
