{
 "cells": [
  {
   "cell_type": "markdown",
   "id": "eed999e3",
   "metadata": {},
   "source": [
    "# 3.2 Support Vector Machine"
   ]
  },
  {
   "cell_type": "markdown",
   "id": "da64dbe5",
   "metadata": {},
   "source": [
    "Note: I took a good deal of help from this blog after quite a bit of troubleshooting: \\\n",
    "https://medium.com/@bedigunjit/simple-guide-to-text-classification-nlp-using-svm-and-naive-bayes-with-python-421db3a72d34"
   ]
  },
  {
   "cell_type": "code",
   "execution_count": 1,
   "id": "e38704ef",
   "metadata": {},
   "outputs": [],
   "source": [
    "import pandas as pd\n",
    "import numpy as np\n",
    "\n",
    "from sklearn.feature_extraction.text import TfidfVectorizer\n",
    "from sklearn.metrics import accuracy_score\n",
    "from sklearn.naive_bayes import MultinomialNB\n",
    "from sklearn.model_selection import train_test_split, GridSearchCV\n",
    "from sklearn.metrics import confusion_matrix, ConfusionMatrixDisplay\n",
    "from sklearn.svm import LinearSVC\n",
    "\n",
    "np.random.seed(42)"
   ]
  },
  {
   "cell_type": "code",
   "execution_count": 2,
   "id": "deae9276",
   "metadata": {},
   "outputs": [],
   "source": [
    "df = pd.read_csv('./cleaned_data')\n",
    "# dropping new rows with null selftext values\n",
    "df.drop(df.loc[df['selftext'].isna()].index, inplace=True)\n",
    "df.reset_index(drop=True, inplace=True)\n",
    "\n",
    "X = df['selftext']\n",
    "y = df['solotravel']\n",
    "\n",
    "tvec = TfidfVectorizer()\n",
    "tvec.fit(X)\n",
    "\n",
    "X_train, X_test, y_train, y_test = train_test_split(X, y, train_size=0.8, stratify=y, random_state=42)\n",
    "X_train_transformed = tvec.transform(X_train)\n",
    "X_test_transformed = tvec.transform(X_test)"
   ]
  },
  {
   "cell_type": "code",
   "execution_count": 3,
   "id": "14f8d613",
   "metadata": {},
   "outputs": [],
   "source": [
    "def scores(model):\n",
    "    print(f'train score: {model.score(X_train_transformed, y_train)}')\n",
    "    print(f'test score: {model.score(X_test_transformed, y_test)}')\n",
    "    print()\n",
    "    \n",
    "    try:\n",
    "        print(f'best score: {model.best_score_}')\n",
    "        print(f'best params: {model.best_params_}')\n",
    "    except:\n",
    "        pass"
   ]
  },
  {
   "cell_type": "code",
   "execution_count": 4,
   "id": "d46ccfa6",
   "metadata": {},
   "outputs": [],
   "source": [
    "nb = MultinomialNB()"
   ]
  },
  {
   "cell_type": "code",
   "execution_count": 5,
   "id": "fd69f6ec",
   "metadata": {},
   "outputs": [
    {
     "data": {
      "text/plain": [
       "MultinomialNB()"
      ]
     },
     "execution_count": 5,
     "metadata": {},
     "output_type": "execute_result"
    }
   ],
   "source": [
    "nb.fit(X_train_transformed, y_train)"
   ]
  },
  {
   "cell_type": "code",
   "execution_count": 6,
   "id": "1dd31a8f",
   "metadata": {},
   "outputs": [
    {
     "name": "stdout",
     "output_type": "stream",
     "text": [
      "train score: 0.779351087771943\n",
      "test score: 0.7254313578394599\n",
      "\n"
     ]
    }
   ],
   "source": [
    "scores(nb)"
   ]
  },
  {
   "cell_type": "code",
   "execution_count": 7,
   "id": "2b14f92c",
   "metadata": {},
   "outputs": [
    {
     "data": {
      "image/png": "[encoded data removed]",
      "text/plain": [
       "<Figure size 432x288 with 2 Axes>"
      ]
     },
     "metadata": {
      "needs_background": "light"
     },
     "output_type": "display_data"
    }
   ],
   "source": [
    "cm = confusion_matrix(y_test, nb.predict(X_test_transformed))\n",
    "ConfusionMatrixDisplay(cm).plot();"
   ]
  },
  {
   "cell_type": "markdown",
   "id": "63a26033",
   "metadata": {},
   "source": [
    "Our train score has increased over the NB models but the test score has decreased, suggesting slight overfitting in the training and testing scores. On to the Support Vector Machine:"
   ]
  },
  {
   "cell_type": "code",
   "execution_count": 8,
   "id": "51e7d914",
   "metadata": {},
   "outputs": [],
   "source": [
    "svm = LinearSVC(max_iter=5000, verbose=1)"
   ]
  },
  {
   "cell_type": "code",
   "execution_count": 9,
   "id": "37ffb84c",
   "metadata": {},
   "outputs": [
    {
     "name": "stdout",
     "output_type": "stream",
     "text": [
      "[LibLinear]"
     ]
    },
    {
     "data": {
      "text/plain": [
       "LinearSVC(max_iter=5000, verbose=1)"
      ]
     },
     "execution_count": 9,
     "metadata": {},
     "output_type": "execute_result"
    }
   ],
   "source": [
    "svm.fit(X_train_transformed, y_train)"
   ]
  },
  {
   "cell_type": "code",
   "execution_count": 10,
   "id": "64013577",
   "metadata": {},
   "outputs": [
    {
     "data": {
      "text/plain": [
       "0.8776881720430108"
      ]
     },
     "execution_count": 10,
     "metadata": {},
     "output_type": "execute_result"
    }
   ],
   "source": [
    "preds_svm_train = svm.predict(X_train_transformed)\n",
    "accuracy_score(preds_svm_train, y_train)"
   ]
  },
  {
   "cell_type": "code",
   "execution_count": 11,
   "id": "f5e8fe2e",
   "metadata": {},
   "outputs": [
    {
     "data": {
      "text/plain": [
       "0.7504376094023506"
      ]
     },
     "execution_count": 11,
     "metadata": {},
     "output_type": "execute_result"
    }
   ],
   "source": [
    "preds_svm_test = svm.predict(X_test_transformed)\n",
    "accuracy_score(preds_svm_test, y_test)"
   ]
  },
  {
   "cell_type": "markdown",
   "id": "5181aff9",
   "metadata": {},
   "source": [
    "Here we saw the training score go up but the testing score stayed about the same, so now we have too much variance."
   ]
  },
  {
   "cell_type": "markdown",
   "id": "3fe7383d",
   "metadata": {},
   "source": [
    "### Doing a grid search over different parameters for the SVM"
   ]
  },
  {
   "cell_type": "code",
   "execution_count": 12,
   "id": "2315741a",
   "metadata": {},
   "outputs": [],
   "source": [
    "svm = LinearSVC()\n",
    "pgrid = {'C': np.linspace(0.0001, 1, 20)}\n",
    "gcv = GridSearchCV(svm, pgrid, cv=5, n_jobs=-1, verbose=1)"
   ]
  },
  {
   "cell_type": "code",
   "execution_count": 13,
   "id": "7c4852df",
   "metadata": {},
   "outputs": [
    {
     "name": "stdout",
     "output_type": "stream",
     "text": [
      "Fitting 5 folds for each of 20 candidates, totalling 100 fits\n",
      "CPU times: user 731 ms, sys: 237 ms, total: 968 ms\n",
      "Wall time: 23.2 s\n"
     ]
    },
    {
     "data": {
      "text/plain": [
       "GridSearchCV(cv=5, estimator=LinearSVC(), n_jobs=-1,\n",
       "             param_grid={'C': array([1.00000000e-04, 5.27263158e-02, 1.05352632e-01, 1.57978947e-01,\n",
       "       2.10605263e-01, 2.63231579e-01, 3.15857895e-01, 3.68484211e-01,\n",
       "       4.21110526e-01, 4.73736842e-01, 5.26363158e-01, 5.78989474e-01,\n",
       "       6.31615789e-01, 6.84242105e-01, 7.36868421e-01, 7.89494737e-01,\n",
       "       8.42121053e-01, 8.94747368e-01, 9.47373684e-01, 1.00000000e+00])},\n",
       "             verbose=1)"
      ]
     },
     "execution_count": 13,
     "metadata": {},
     "output_type": "execute_result"
    }
   ],
   "source": [
    "%%time\n",
    "gcv.fit(X_train_transformed, y_train)"
   ]
  },
  {
   "cell_type": "code",
   "execution_count": 14,
   "id": "2ee9fb8e",
   "metadata": {},
   "outputs": [
    {
     "name": "stdout",
     "output_type": "stream",
     "text": [
      "train score: 0.8169854963740936\n",
      "test score: 0.7636909227306826\n",
      "\n",
      "best score: 0.7627218587461965\n",
      "best params: {'C': 0.10535263157894738}\n"
     ]
    }
   ],
   "source": [
    "scores(gcv)"
   ]
  },
  {
   "cell_type": "markdown",
   "id": "694f008b",
   "metadata": {},
   "source": [
    "We decreased the gap between our training and testing scores (with the best testing score yet of 76%), but the gap is still pretty significant at about 5% which still shows evidence of overfitting."
   ]
  }
 ],
 "metadata": {
  "kernelspec": {
   "display_name": "Python 3",
   "language": "python",
   "name": "python3"
  },
  "language_info": {
   "codemirror_mode": {
    "name": "ipython",
    "version": 3
   },
   "file_extension": ".py",
   "mimetype": "text/x-python",
   "name": "python",
   "nbconvert_exporter": "python",
   "pygments_lexer": "ipython3",
   "version": "3.8.10"
  }
 },
 "nbformat": 4,
 "nbformat_minor": 5
}
