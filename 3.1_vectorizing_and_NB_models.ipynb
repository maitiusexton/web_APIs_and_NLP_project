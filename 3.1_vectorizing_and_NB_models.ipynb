{
 "cells": [
  {
   "cell_type": "markdown",
   "id": "a49e97a7",
   "metadata": {},
   "source": [
    "# 3.1 Vectorizing & Naïve Bayes Models"
   ]
  },
  {
   "cell_type": "markdown",
   "id": "ff653231",
   "metadata": {},
   "source": [
    "# Problem Statement: Given a post from either r/travel or r/solotravel, how well can we predict from which subreddit it came?"
   ]
  },
  {
   "cell_type": "markdown",
   "id": "94648963",
   "metadata": {},
   "source": [
    "#### Baseline accuracy is exactly 50% because we have exactly 20,000 rows from each subreddit"
   ]
  },
  {
   "cell_type": "code",
   "execution_count": 1,
   "id": "b89cc3e8",
   "metadata": {},
   "outputs": [],
   "source": [
    "import pandas as pd\n",
    "import numpy as np\n",
    "\n",
    "from sklearn.model_selection import train_test_split, GridSearchCV, cross_val_score\n",
    "from sklearn.pipeline import Pipeline\n",
    "from sklearn.naive_bayes import MultinomialNB, BernoulliNB\n",
    "from sklearn.metrics import confusion_matrix, ConfusionMatrixDisplay\n",
    "\n",
    "from sklearn.feature_extraction.text import CountVectorizer, TfidfVectorizer\n",
    "\n",
    "import time\n",
    "\n",
    "np.random.seed(42)"
   ]
  },
  {
   "cell_type": "code",
   "execution_count": 2,
   "id": "53f9f473",
   "metadata": {},
   "outputs": [],
   "source": [
    "df = pd.read_csv('./cleaned_data')\n",
    "# dropping new rows with null selftext values\n",
    "df.drop(df.loc[df['selftext'].isna()].index, inplace=True)\n",
    "df.reset_index(drop=True, inplace=True)\n",
    "\n",
    "X = df['selftext']\n",
    "y = df['solotravel']\n",
    "\n",
    "tvec = TfidfVectorizer()\n",
    "tvec.fit(X)\n",
    "\n",
    "X_train, X_test, y_train, y_test = train_test_split(X, y, train_size=0.8, stratify=y, random_state=42)\n",
    "X_train_transformed = tvec.transform(X_train)\n",
    "X_test_transformed = tvec.transform(X_test)"
   ]
  },
  {
   "cell_type": "code",
   "execution_count": 3,
   "id": "341ec2e0",
   "metadata": {},
   "outputs": [],
   "source": [
    "def scores(model):\n",
    "    print(f'train score: {model.score(X_train_transformed, y_train)}')\n",
    "    print(f'test score: {model.score(X_test_transformed, y_test)}')\n",
    "    print()\n",
    "    \n",
    "    try:\n",
    "        print(f'best score: {model.best_score_}')\n",
    "        print(f'best params: {model.best_params_}')\n",
    "    except:\n",
    "        pass"
   ]
  },
  {
   "cell_type": "markdown",
   "id": "986e3a42",
   "metadata": {},
   "source": [
    "### Basic CountVectorizer BernoulliNB model"
   ]
  },
  {
   "cell_type": "code",
   "execution_count": 4,
   "id": "5adf45f7",
   "metadata": {},
   "outputs": [],
   "source": [
    "X_train, X_test, y_train, y_test = train_test_split(X,\n",
    "                                                    y,\n",
    "                                                    train_size=0.8,\n",
    "                                                    stratify=y,\n",
    "                                                    random_state=42)"
   ]
  },
  {
   "cell_type": "code",
   "execution_count": 5,
   "id": "07b3dd0a",
   "metadata": {},
   "outputs": [],
   "source": [
    "pipe = Pipeline([\n",
    "    ('cvec', CountVectorizer()),\n",
    "    ('nb', BernoulliNB())\n",
    "])"
   ]
  },
  {
   "cell_type": "code",
   "execution_count": 6,
   "id": "a8211218",
   "metadata": {},
   "outputs": [
    {
     "data": {
      "text/plain": [
       "Pipeline(steps=[('cvec', CountVectorizer()), ('nb', BernoulliNB())])"
      ]
     },
     "execution_count": 6,
     "metadata": {},
     "output_type": "execute_result"
    }
   ],
   "source": [
    "pipe.fit(X_train, y_train)"
   ]
  },
  {
   "cell_type": "code",
   "execution_count": 7,
   "id": "e067decb",
   "metadata": {},
   "outputs": [
    {
     "data": {
      "text/plain": [
       "0.6797636909227307"
      ]
     },
     "execution_count": 7,
     "metadata": {},
     "output_type": "execute_result"
    }
   ],
   "source": [
    "pipe.score(X_train, y_train)"
   ]
  },
  {
   "cell_type": "code",
   "execution_count": 8,
   "id": "abc91400",
   "metadata": {},
   "outputs": [
    {
     "data": {
      "text/plain": [
       "0.6557889472368092"
      ]
     },
     "execution_count": 8,
     "metadata": {},
     "output_type": "execute_result"
    }
   ],
   "source": [
    "pipe.score(X_test, y_test)"
   ]
  },
  {
   "cell_type": "markdown",
   "id": "92765a66",
   "metadata": {},
   "source": [
    "Our training and testing scores aren't too far off from one another so our variance is pretty low. But we only have at 15% accuracy increase over our null model. So there's still much improvement to be made"
   ]
  },
  {
   "cell_type": "markdown",
   "id": "f194f647",
   "metadata": {},
   "source": [
    "### GridSearch over CountVectorizer BernoulliNB model"
   ]
  },
  {
   "cell_type": "code",
   "execution_count": 9,
   "id": "69c92041",
   "metadata": {},
   "outputs": [],
   "source": [
    "# resetting train_test_split values\n",
    "X_train, X_test, y_train, y_test = train_test_split(X,\n",
    "                                                    y,\n",
    "                                                    train_size=0.8,\n",
    "                                                    stratify=y,\n",
    "                                                    random_state=42)"
   ]
  },
  {
   "cell_type": "code",
   "execution_count": 10,
   "id": "c2cb6284",
   "metadata": {},
   "outputs": [],
   "source": [
    "pipe_params = {\n",
    "    'cvec__max_features':[2_000, 3_000, 4_000, 5_000], \n",
    "    'cvec__min_df'      :[2, 3], \n",
    "    'cvec__max_df'      :[0.9, 0.95], \n",
    "    'cvec__ngram_range' :[(1,1), (1,2)]\n",
    "}"
   ]
  },
  {
   "cell_type": "code",
   "execution_count": 11,
   "id": "8d7b385f",
   "metadata": {},
   "outputs": [],
   "source": [
    "gs = GridSearchCV(pipe, pipe_params, cv=5, verbose=1)"
   ]
  },
  {
   "cell_type": "code",
   "execution_count": 12,
   "id": "59885c48",
   "metadata": {},
   "outputs": [
    {
     "name": "stdout",
     "output_type": "stream",
     "text": [
      "Fitting 5 folds for each of 32 candidates, totalling 160 fits\n",
      "CPU times: user 11min, sys: 18.3 s, total: 11min 18s\n",
      "Wall time: 11min 20s\n"
     ]
    },
    {
     "data": {
      "text/plain": [
       "GridSearchCV(cv=5,\n",
       "             estimator=Pipeline(steps=[('cvec', CountVectorizer()),\n",
       "                                       ('nb', BernoulliNB())]),\n",
       "             param_grid={'cvec__max_df': [0.9, 0.95],\n",
       "                         'cvec__max_features': [2000, 3000, 4000, 5000],\n",
       "                         'cvec__min_df': [2, 3],\n",
       "                         'cvec__ngram_range': [(1, 1), (1, 2)]},\n",
       "             verbose=1)"
      ]
     },
     "execution_count": 12,
     "metadata": {},
     "output_type": "execute_result"
    }
   ],
   "source": [
    "%%time\n",
    "gs.fit(X_train, y_train)"
   ]
  },
  {
   "cell_type": "code",
   "execution_count": 14,
   "id": "b728438e",
   "metadata": {},
   "outputs": [
    {
     "name": "stdout",
     "output_type": "stream",
     "text": [
      "0.6835146286571643\n",
      "0.6765441360340085\n"
     ]
    }
   ],
   "source": [
    "print(gs.score(X_train, y_train))\n",
    "print(gs.score(X_test, y_test))"
   ]
  },
  {
   "cell_type": "markdown",
   "id": "813023a5",
   "metadata": {},
   "source": [
    "The scores with these parameters still haven't improved much."
   ]
  },
  {
   "cell_type": "code",
   "execution_count": 15,
   "id": "45140b77",
   "metadata": {},
   "outputs": [],
   "source": [
    "preds = gs.predict(X_test)\n",
    "\n",
    "cm = confusion_matrix(y_test, preds)"
   ]
  },
  {
   "cell_type": "code",
   "execution_count": 16,
   "id": "664a8727",
   "metadata": {},
   "outputs": [
    {
     "data": {
      "image/png": "[encoded data removed]",
      "text/plain": [
       "<Figure size 432x288 with 2 Axes>"
      ]
     },
     "metadata": {
      "needs_background": "light"
     },
     "output_type": "display_data"
    }
   ],
   "source": [
    "ConfusionMatrixDisplay(cm).plot();"
   ]
  },
  {
   "cell_type": "markdown",
   "id": "4430b33f",
   "metadata": {},
   "source": [
    "#### Not a very impressive model - less than 70% accuracy"
   ]
  },
  {
   "cell_type": "markdown",
   "id": "175a4713",
   "metadata": {},
   "source": [
    "# Changing the parameters a bit"
   ]
  },
  {
   "cell_type": "code",
   "execution_count": 17,
   "id": "55bd91b3",
   "metadata": {},
   "outputs": [],
   "source": [
    "pipe_params = {\n",
    "    'cvec__max_features':[10_000, 20_000, 30_000], \n",
    "    'cvec__min_df'      :[10], \n",
    "    'cvec__max_df'      :[0.9], \n",
    "    'cvec__ngram_range' :[(2,3),(3,4),(2,4)]\n",
    "}"
   ]
  },
  {
   "cell_type": "code",
   "execution_count": 18,
   "id": "f6ded96e",
   "metadata": {},
   "outputs": [],
   "source": [
    "gs = GridSearchCV(pipe, pipe_params, cv=5, n_jobs=-1, verbose=1)"
   ]
  },
  {
   "cell_type": "code",
   "execution_count": 19,
   "id": "191e573e",
   "metadata": {},
   "outputs": [
    {
     "name": "stdout",
     "output_type": "stream",
     "text": [
      "Fitting 5 folds for each of 9 candidates, totalling 45 fits\n",
      "CPU times: user 16.8 s, sys: 3.08 s, total: 19.9 s\n",
      "Wall time: 8min 7s\n"
     ]
    },
    {
     "data": {
      "text/plain": [
       "GridSearchCV(cv=5,\n",
       "             estimator=Pipeline(steps=[('cvec', CountVectorizer()),\n",
       "                                       ('nb', BernoulliNB())]),\n",
       "             n_jobs=-1,\n",
       "             param_grid={'cvec__max_df': [0.9],\n",
       "                         'cvec__max_features': [10000, 20000, 30000],\n",
       "                         'cvec__min_df': [10],\n",
       "                         'cvec__ngram_range': [(2, 3), (3, 4), (2, 4)]},\n",
       "             verbose=1)"
      ]
     },
     "execution_count": 19,
     "metadata": {},
     "output_type": "execute_result"
    }
   ],
   "source": [
    "%%time\n",
    "gs.fit(X_train, y_train)"
   ]
  },
  {
   "cell_type": "code",
   "execution_count": 20,
   "id": "35c07125",
   "metadata": {},
   "outputs": [
    {
     "name": "stdout",
     "output_type": "stream",
     "text": [
      "0.6859211600202653\n",
      "0.735527631907977\n",
      "0.6935483870967742\n"
     ]
    }
   ],
   "source": [
    "print(gs.best_score_)\n",
    "print(gs.score(X_train, y_train))\n",
    "print(gs.score(X_test, y_test))"
   ]
  },
  {
   "cell_type": "markdown",
   "id": "9305a74c",
   "metadata": {},
   "source": [
    "Even worse"
   ]
  },
  {
   "cell_type": "markdown",
   "id": "0ca5bc94",
   "metadata": {},
   "source": [
    "### Let's try with a TF-IDF Vectorizer (and a Multinomial Naïve Bayes)"
   ]
  },
  {
   "cell_type": "code",
   "execution_count": 21,
   "id": "75c4f5fd",
   "metadata": {},
   "outputs": [],
   "source": [
    "# resetting train_test_split values\n",
    "X_train, X_test, y_train, y_test = train_test_split(X,\n",
    "                                                    y,\n",
    "                                                    train_size=0.8,\n",
    "                                                    stratify=y,\n",
    "                                                    random_state=42)"
   ]
  },
  {
   "cell_type": "code",
   "execution_count": 22,
   "id": "cf0ddc37",
   "metadata": {},
   "outputs": [],
   "source": [
    "tvec = TfidfVectorizer()"
   ]
  },
  {
   "cell_type": "code",
   "execution_count": 23,
   "id": "8ea4e0b9",
   "metadata": {},
   "outputs": [
    {
     "name": "stdout",
     "output_type": "stream",
     "text": [
      "CPU times: user 2.78 s, sys: 1.42 s, total: 4.2 s\n",
      "Wall time: 4.31 s\n"
     ]
    }
   ],
   "source": [
    "%%time\n",
    "X_train_df = pd.DataFrame(\n",
    "    tvec.fit_transform(X_train).todense(), \n",
    "    columns = tvec.get_feature_names()\n",
    ")"
   ]
  },
  {
   "cell_type": "code",
   "execution_count": 24,
   "id": "fdccba2c",
   "metadata": {},
   "outputs": [],
   "source": [
    "pipe = Pipeline([\n",
    "    ('tvec', TfidfVectorizer()),\n",
    "    ('nb', MultinomialNB()) #changed this for a better model\n",
    "])"
   ]
  },
  {
   "cell_type": "code",
   "execution_count": 25,
   "id": "96311491",
   "metadata": {},
   "outputs": [],
   "source": [
    "pipe_params = {\n",
    "    'tvec__max_features':[2_000, 3_000, 4_000, 5_000],\n",
    "    'tvec__ngram_range' :[(1,1), (1,2), (2,2), (2,3)]\n",
    "}"
   ]
  },
  {
   "cell_type": "code",
   "execution_count": 26,
   "id": "0801c9f4",
   "metadata": {},
   "outputs": [],
   "source": [
    "gs_tvec = GridSearchCV(pipe, param_grid=pipe_params, cv=5, n_jobs=-1, verbose=1)"
   ]
  },
  {
   "cell_type": "code",
   "execution_count": 27,
   "id": "93eeacb8",
   "metadata": {},
   "outputs": [
    {
     "name": "stdout",
     "output_type": "stream",
     "text": [
      "Fitting 5 folds for each of 16 candidates, totalling 80 fits\n",
      "CPU times: user 10 s, sys: 2.05 s, total: 12.1 s\n",
      "Wall time: 4min 38s\n"
     ]
    },
    {
     "data": {
      "text/plain": [
       "GridSearchCV(cv=5,\n",
       "             estimator=Pipeline(steps=[('tvec', TfidfVectorizer()),\n",
       "                                       ('nb', MultinomialNB())]),\n",
       "             n_jobs=-1,\n",
       "             param_grid={'tvec__max_features': [2000, 3000, 4000, 5000],\n",
       "                         'tvec__ngram_range': [(1, 1), (1, 2), (2, 2), (2, 3)]},\n",
       "             verbose=1)"
      ]
     },
     "execution_count": 27,
     "metadata": {},
     "output_type": "execute_result"
    }
   ],
   "source": [
    "%%time\n",
    "gs_tvec.fit(X_train, y_train)"
   ]
  },
  {
   "cell_type": "code",
   "execution_count": 31,
   "id": "6a6d8f7a",
   "metadata": {},
   "outputs": [
    {
     "name": "stdout",
     "output_type": "stream",
     "text": [
      "0.7435920478548516\n",
      "0.7628782195548888\n",
      "0.7414353588397099\n"
     ]
    }
   ],
   "source": [
    "print(gs_tvec.best_score_)\n",
    "print(gs_tvec.score(X_train, y_train))\n",
    "print(gs_tvec.score(X_test, y_test))"
   ]
  },
  {
   "cell_type": "markdown",
   "id": "0f3d77e1",
   "metadata": {},
   "source": [
    "This is a noticably better score (by about 10%) and it still keeps the training and testing scores close to each other."
   ]
  },
  {
   "cell_type": "code",
   "execution_count": 29,
   "id": "feec5678",
   "metadata": {},
   "outputs": [
    {
     "data": {
      "image/png": "[encoded data removed]",
      "text/plain": [
       "<Figure size 432x288 with 2 Axes>"
      ]
     },
     "metadata": {
      "needs_background": "light"
     },
     "output_type": "display_data"
    }
   ],
   "source": [
    "preds_gs_test = gs_tvec.predict(X_test)\n",
    "\n",
    "cm = confusion_matrix(y_test, preds_gs_test)\n",
    "ConfusionMatrixDisplay(cm).plot();"
   ]
  },
  {
   "cell_type": "markdown",
   "id": "4e264b8f",
   "metadata": {},
   "source": [
    "Here we can see our accuracy improving but we still have about 2000 of the 8000 results misclassified."
   ]
  }
 ],
 "metadata": {
  "kernelspec": {
   "display_name": "Python 3",
   "language": "python",
   "name": "python3"
  },
  "language_info": {
   "codemirror_mode": {
    "name": "ipython",
    "version": 3
   },
   "file_extension": ".py",
   "mimetype": "text/x-python",
   "name": "python",
   "nbconvert_exporter": "python",
   "pygments_lexer": "ipython3",
   "version": "3.8.10"
  }
 },
 "nbformat": 4,
 "nbformat_minor": 5
}
